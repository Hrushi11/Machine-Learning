{
 "cells": [
  {
   "cell_type": "markdown",
   "id": "wrong-cargo",
   "metadata": {},
   "source": [
    "# Heart disease analysis\n",
    "Simple Classification workfow - \n",
    "\n",
    "This workflow assumes data is ready to be used with machine learning models (is numerical and has no missing values.) "
   ]
  },
  {
   "cell_type": "code",
   "execution_count": 69,
   "id": "technical-accused",
   "metadata": {},
   "outputs": [],
   "source": [
    "%matplotlib inline\n",
    "import matplotlib.pyplot as plt\n",
    "import pandas as pd \n",
    "import numpy as np\n",
    "import sklearn"
   ]
  },
  {
   "cell_type": "code",
   "execution_count": 17,
   "id": "proud-titanium",
   "metadata": {},
   "outputs": [
    {
     "data": {
      "text/html": [
       "<div>\n",
       "<style scoped>\n",
       "    .dataframe tbody tr th:only-of-type {\n",
       "        vertical-align: middle;\n",
       "    }\n",
       "\n",
       "    .dataframe tbody tr th {\n",
       "        vertical-align: top;\n",
       "    }\n",
       "\n",
       "    .dataframe thead th {\n",
       "        text-align: right;\n",
       "    }\n",
       "</style>\n",
       "<table border=\"1\" class=\"dataframe\">\n",
       "  <thead>\n",
       "    <tr style=\"text-align: right;\">\n",
       "      <th></th>\n",
       "      <th>age</th>\n",
       "      <th>sex</th>\n",
       "      <th>cp</th>\n",
       "      <th>trestbps</th>\n",
       "      <th>chol</th>\n",
       "      <th>fbs</th>\n",
       "      <th>restecg</th>\n",
       "      <th>thalach</th>\n",
       "      <th>exang</th>\n",
       "      <th>oldpeak</th>\n",
       "      <th>slope</th>\n",
       "      <th>ca</th>\n",
       "      <th>thal</th>\n",
       "      <th>target</th>\n",
       "    </tr>\n",
       "  </thead>\n",
       "  <tbody>\n",
       "    <tr>\n",
       "      <th>0</th>\n",
       "      <td>63</td>\n",
       "      <td>1</td>\n",
       "      <td>3</td>\n",
       "      <td>145</td>\n",
       "      <td>233</td>\n",
       "      <td>1</td>\n",
       "      <td>0</td>\n",
       "      <td>150</td>\n",
       "      <td>0</td>\n",
       "      <td>2.3</td>\n",
       "      <td>0</td>\n",
       "      <td>0</td>\n",
       "      <td>1</td>\n",
       "      <td>1</td>\n",
       "    </tr>\n",
       "    <tr>\n",
       "      <th>1</th>\n",
       "      <td>37</td>\n",
       "      <td>1</td>\n",
       "      <td>2</td>\n",
       "      <td>130</td>\n",
       "      <td>250</td>\n",
       "      <td>0</td>\n",
       "      <td>1</td>\n",
       "      <td>187</td>\n",
       "      <td>0</td>\n",
       "      <td>3.5</td>\n",
       "      <td>0</td>\n",
       "      <td>0</td>\n",
       "      <td>2</td>\n",
       "      <td>1</td>\n",
       "    </tr>\n",
       "    <tr>\n",
       "      <th>2</th>\n",
       "      <td>41</td>\n",
       "      <td>0</td>\n",
       "      <td>1</td>\n",
       "      <td>130</td>\n",
       "      <td>204</td>\n",
       "      <td>0</td>\n",
       "      <td>0</td>\n",
       "      <td>172</td>\n",
       "      <td>0</td>\n",
       "      <td>1.4</td>\n",
       "      <td>2</td>\n",
       "      <td>0</td>\n",
       "      <td>2</td>\n",
       "      <td>1</td>\n",
       "    </tr>\n",
       "    <tr>\n",
       "      <th>3</th>\n",
       "      <td>56</td>\n",
       "      <td>1</td>\n",
       "      <td>1</td>\n",
       "      <td>120</td>\n",
       "      <td>236</td>\n",
       "      <td>0</td>\n",
       "      <td>1</td>\n",
       "      <td>178</td>\n",
       "      <td>0</td>\n",
       "      <td>0.8</td>\n",
       "      <td>2</td>\n",
       "      <td>0</td>\n",
       "      <td>2</td>\n",
       "      <td>1</td>\n",
       "    </tr>\n",
       "    <tr>\n",
       "      <th>4</th>\n",
       "      <td>57</td>\n",
       "      <td>0</td>\n",
       "      <td>0</td>\n",
       "      <td>120</td>\n",
       "      <td>354</td>\n",
       "      <td>0</td>\n",
       "      <td>1</td>\n",
       "      <td>163</td>\n",
       "      <td>1</td>\n",
       "      <td>0.6</td>\n",
       "      <td>2</td>\n",
       "      <td>0</td>\n",
       "      <td>2</td>\n",
       "      <td>1</td>\n",
       "    </tr>\n",
       "  </tbody>\n",
       "</table>\n",
       "</div>"
      ],
      "text/plain": [
       "   age  sex  cp  trestbps  chol  fbs  restecg  thalach  exang  oldpeak  slope  \\\n",
       "0   63    1   3       145   233    1        0      150      0      2.3      0   \n",
       "1   37    1   2       130   250    0        1      187      0      3.5      0   \n",
       "2   41    0   1       130   204    0        0      172      0      1.4      2   \n",
       "3   56    1   1       120   236    0        1      178      0      0.8      2   \n",
       "4   57    0   0       120   354    0        1      163      1      0.6      2   \n",
       "\n",
       "   ca  thal  target  \n",
       "0   0     1       1  \n",
       "1   0     2       1  \n",
       "2   0     2       1  \n",
       "3   0     2       1  \n",
       "4   0     2       1  "
      ]
     },
     "execution_count": 17,
     "metadata": {},
     "output_type": "execute_result"
    }
   ],
   "source": [
    "#Importing the dataset\n",
    "heart_disease = pd.read_csv(\"./data/heart-disease.csv\")\n",
    "\n",
    "#Viewing the data\n",
    "heart_disease.head()"
   ]
  },
  {
   "cell_type": "markdown",
   "id": "superior-magnitude",
   "metadata": {},
   "source": [
    "Will use all the columns except the target column to predict the target column.\n",
    "Using a patient's medical and demographic data to predict whether or not they have heart-disease"
   ]
  },
  {
   "cell_type": "code",
   "execution_count": 3,
   "id": "adult-tuner",
   "metadata": {},
   "outputs": [],
   "source": [
    "# Creating X (all the feature coliumns)\n",
    "X = heart_disease.drop(\"target\", axis = 1)\n",
    "\n",
    "# Creating Y (the target column)\n",
    "Y = heart_disease[\"target\"]"
   ]
  },
  {
   "cell_type": "code",
   "execution_count": 49,
   "id": "catholic-willow",
   "metadata": {},
   "outputs": [
    {
     "data": {
      "text/plain": [
       "((227, 13), (76, 13), (227,), (76,))"
      ]
     },
     "execution_count": 49,
     "metadata": {},
     "output_type": "execute_result"
    }
   ],
   "source": [
    "# Splitting the data into training and test sets \n",
    "from sklearn.model_selection import train_test_split\n",
    "\n",
    "X_train, X_test, Y_train, Y_test = train_test_split(X,Y)\n",
    "\n",
    "# Viewing the data shapes\n",
    "X_train.shape, X_test.shape, Y_train.shape, Y_test.shape"
   ]
  },
  {
   "cell_type": "markdown",
   "id": "unable-gabriel",
   "metadata": {},
   "source": [
    "# Choosing the Model\n",
    "Since, we are working on a classification problem, we will use the RandomForestClassifier model which is part of the ensemble module"
   ]
  },
  {
   "cell_type": "code",
   "execution_count": 68,
   "id": "saving-lebanon",
   "metadata": {},
   "outputs": [],
   "source": [
    "from sklearn.ensemble import RandomForestClassifier\n",
    "model = RandomForestClassifier()"
   ]
  },
  {
   "cell_type": "markdown",
   "id": "authorized-bumper",
   "metadata": {},
   "source": [
    "# Fitting the model to the data to make a prediction\n",
    "\n",
    "The model will attempt to learn the patterns in a dataset by calling the fit() function on it and passing the data "
   ]
  },
  {
   "cell_type": "code",
   "execution_count": 72,
   "id": "capable-customs",
   "metadata": {},
   "outputs": [
    {
     "data": {
      "text/plain": [
       "RandomForestClassifier()"
      ]
     },
     "execution_count": 72,
     "metadata": {},
     "output_type": "execute_result"
    }
   ],
   "source": [
    "model.fit(X_train,Y_train)"
   ]
  },
  {
   "cell_type": "markdown",
   "id": "seventh-thread",
   "metadata": {},
   "source": [
    "Since the model has learned patterns in data, we can use them to make a prediction with the predict() function"
   ]
  },
  {
   "cell_type": "code",
   "execution_count": 9,
   "id": "minute-washington",
   "metadata": {},
   "outputs": [],
   "source": [
    "# Making Predictions\n",
    "Y_preds = model.predict(X_test)"
   ]
  },
  {
   "cell_type": "code",
   "execution_count": 10,
   "id": "comparative-industry",
   "metadata": {},
   "outputs": [
    {
     "data": {
      "text/plain": [
       "array([0, 0, 0, 1, 1, 1, 0, 0, 1, 1, 1, 0, 1, 1, 0, 1, 1, 0, 1, 1, 0, 0,\n",
       "       0, 0, 0, 0, 1, 0, 1, 0, 1, 1, 0, 1, 1, 1, 1, 1, 0, 1, 1, 1, 1, 1,\n",
       "       1, 1, 1, 0, 1, 0, 0, 1, 0, 1, 0, 0, 1, 1, 1, 1, 1, 0, 0, 0, 1, 0,\n",
       "       0, 1, 0, 1, 0, 0, 1, 1, 1, 0], dtype=int64)"
      ]
     },
     "execution_count": 10,
     "metadata": {},
     "output_type": "execute_result"
    }
   ],
   "source": [
    "# Viewing the predictions (This will be in the same format as Y_test)\n",
    "Y_preds"
   ]
  },
  {
   "cell_type": "markdown",
   "id": "stock-statistics",
   "metadata": {},
   "source": [
    "# Randomly selecting a data set\n",
    "choosing - (dataset[210])"
   ]
  },
  {
   "cell_type": "code",
   "execution_count": 53,
   "id": "available-bread",
   "metadata": {
    "scrolled": false
   },
   "outputs": [
    {
     "data": {
      "text/plain": [
       "age          57.0\n",
       "sex           1.0\n",
       "cp            2.0\n",
       "trestbps    128.0\n",
       "chol        229.0\n",
       "fbs           0.0\n",
       "restecg       0.0\n",
       "thalach     150.0\n",
       "exang         0.0\n",
       "oldpeak       0.4\n",
       "slope         1.0\n",
       "ca            1.0\n",
       "thal          3.0\n",
       "Name: 210, dtype: float64"
      ]
     },
     "execution_count": 53,
     "metadata": {},
     "output_type": "execute_result"
    }
   ],
   "source": [
    "X_test.loc[210]"
   ]
  },
  {
   "cell_type": "code",
   "execution_count": 54,
   "id": "ceramic-chester",
   "metadata": {},
   "outputs": [
    {
     "data": {
      "text/plain": [
       "age          57.0\n",
       "sex           1.0\n",
       "cp            2.0\n",
       "trestbps    128.0\n",
       "chol        229.0\n",
       "fbs           0.0\n",
       "restecg       0.0\n",
       "thalach     150.0\n",
       "exang         0.0\n",
       "oldpeak       0.4\n",
       "slope         1.0\n",
       "ca            1.0\n",
       "thal          3.0\n",
       "target        0.0\n",
       "Name: 210, dtype: float64"
      ]
     },
     "execution_count": 54,
     "metadata": {},
     "output_type": "execute_result"
    }
   ],
   "source": [
    "heart_disease.loc[210]"
   ]
  },
  {
   "cell_type": "code",
   "execution_count": 55,
   "id": "located-rental",
   "metadata": {},
   "outputs": [
    {
     "data": {
      "text/plain": [
       "array([0], dtype=int64)"
      ]
     },
     "execution_count": 55,
     "metadata": {},
     "output_type": "execute_result"
    }
   ],
   "source": [
    "# Making a prediction on a single sample (has to be array)\n",
    "model.predict(np.array(X_test.loc[210]).reshape(1,-1))"
   ]
  },
  {
   "cell_type": "markdown",
   "id": "editorial-implementation",
   "metadata": {},
   "source": [
    "## Evaluating the model\n",
    "\n",
    "To evaluate a trained model by calling the score() function and passing it a collection of data "
   ]
  },
  {
   "cell_type": "code",
   "execution_count": 58,
   "id": "peripheral-hopkins",
   "metadata": {},
   "outputs": [
    {
     "data": {
      "text/plain": [
       "84.58149779735683"
      ]
     },
     "execution_count": 58,
     "metadata": {},
     "output_type": "execute_result"
    }
   ],
   "source": [
    "# On the training data set\n",
    "model.score(X_train, Y_train) * 100"
   ]
  },
  {
   "cell_type": "code",
   "execution_count": 59,
   "id": "palestinian-barrel",
   "metadata": {},
   "outputs": [
    {
     "data": {
      "text/plain": [
       "78.94736842105263"
      ]
     },
     "execution_count": 59,
     "metadata": {},
     "output_type": "execute_result"
    }
   ],
   "source": [
    "# On the test set (UNSEEN)\n",
    "model.score(X_test, Y_test) * 100"
   ]
  },
  {
   "cell_type": "markdown",
   "id": "alleged-profession",
   "metadata": {},
   "source": [
    "## Experiments to improve (Hyperparameter Tuning)\n",
    "Trying to improve the model's predictions with hyperparameter tuning"
   ]
  },
  {
   "cell_type": "code",
   "execution_count": 74,
   "id": "expressed-classroom",
   "metadata": {},
   "outputs": [
    {
     "name": "stdout",
     "output_type": "stream",
     "text": [
      "Tried model with 10 estimators...\n",
      "Model accuracy on test set: 0.8289473684210527\n",
      "\n",
      "Tried model with 20 estimators...\n",
      "Model accuracy on test set: 0.75\n",
      "\n",
      "Tried model with 30 estimators...\n",
      "Model accuracy on test set: 0.7763157894736842\n",
      "\n",
      "Tried model with 40 estimators...\n",
      "Model accuracy on test set: 0.8157894736842105\n",
      "\n",
      "Tried model with 50 estimators...\n",
      "Model accuracy on test set: 0.8157894736842105\n",
      "\n",
      "Tried model with 60 estimators...\n",
      "Model accuracy on test set: 0.8157894736842105\n",
      "\n",
      "Tried model with 70 estimators...\n",
      "Model accuracy on test set: 0.8157894736842105\n",
      "\n",
      "Tried model with 80 estimators...\n",
      "Model accuracy on test set: 0.8157894736842105\n",
      "\n",
      "Tried model with 90 estimators...\n",
      "Model accuracy on test set: 0.7763157894736842\n",
      "\n"
     ]
    }
   ],
   "source": [
    "# Trying different numbers of estimators (n_estimators is a hyperparameter we can change)\n",
    "np.random.seed(12)\n",
    "for i in range(10, 100, 10):\n",
    "    print(f\"Tried model with {i} estimators...\")\n",
    "    model = RandomForestClassifier(n_estimators=i).fit(X_train, Y_train)\n",
    "    print(f\"Model accuracy on test set: {model.score(X_test, Y_test)}\")\n",
    "    print(\"\")"
   ]
  },
  {
   "cell_type": "markdown",
   "id": "advised-front",
   "metadata": {},
   "source": [
    "## Conclusion :\n",
    "So the model best works with 10 estimators with an accuracy of -> 0.8289473684210527"
   ]
  },
  {
   "cell_type": "markdown",
   "id": "ongoing-review",
   "metadata": {},
   "source": [
    "Testing different hyperparmeters with a validation set or cross validation:"
   ]
  },
  {
   "cell_type": "code",
   "execution_count": 78,
   "id": "cathedral-saint",
   "metadata": {},
   "outputs": [
    {
     "name": "stdout",
     "output_type": "stream",
     "text": [
      "Trying model with 10 estimators....\n",
      "Model accuracy on test set : 82.89473684210526%\n",
      "Cross-validation score: 79.53551912568307%\n",
      "\n",
      "Trying model with 20 estimators....\n",
      "Model accuracy on test set : 78.94736842105263%\n",
      "Cross-validation score: 80.5191256830601%\n",
      "\n",
      "Trying model with 30 estimators....\n",
      "Model accuracy on test set : 80.26315789473685%\n",
      "Cross-validation score: 82.83606557377048%\n",
      "\n",
      "Trying model with 40 estimators....\n",
      "Model accuracy on test set : 78.94736842105263%\n",
      "Cross-validation score: 82.49726775956286%\n",
      "\n",
      "Trying model with 50 estimators....\n",
      "Model accuracy on test set : 80.26315789473685%\n",
      "Cross-validation score: 80.5191256830601%\n",
      "\n",
      "Trying model with 60 estimators....\n",
      "Model accuracy on test set : 81.57894736842105%\n",
      "Cross-validation score: 82.15300546448088%\n",
      "\n",
      "Trying model with 70 estimators....\n",
      "Model accuracy on test set : 80.26315789473685%\n",
      "Cross-validation score: 82.50273224043717%\n",
      "\n",
      "Trying model with 80 estimators....\n",
      "Model accuracy on test set : 80.26315789473685%\n",
      "Cross-validation score: 82.14754098360656%\n",
      "\n",
      "Trying model with 90 estimators....\n",
      "Model accuracy on test set : 82.89473684210526%\n",
      "Cross-validation score: 81.15846994535518%\n",
      "\n"
     ]
    }
   ],
   "source": [
    "from sklearn.model_selection import cross_val_score\n",
    "\n",
    "# Trying different numbers of estimators with cross-validation and no cross-validation\n",
    "np.random.seed(12)\n",
    "for i in range(10, 100, 10):\n",
    "    print(f\"Trying model with {i} estimators....\")\n",
    "    model = RandomForestClassifier(n_estimators = i).fit(X_train, Y_train)\n",
    "    print(f\"Model accuracy on test set : {model.score(X_test, Y_test) * 100}%\")\n",
    "    print(f\"Cross-validation score: {np.mean(cross_val_score(model, X, Y, cv = 5)) * 100}%\")\n",
    "    print(\"\")"
   ]
  },
  {
   "cell_type": "markdown",
   "id": "resistant-clinic",
   "metadata": {},
   "source": [
    "## Saving the model\n",
    "To export and save the trained model to use it later using Python's pickle module."
   ]
  },
  {
   "cell_type": "code",
   "execution_count": 79,
   "id": "freelance-novelty",
   "metadata": {},
   "outputs": [],
   "source": [
    "import pickle\n",
    "\n",
    "# Saving trained model in a file\n",
    "pickle.dump(model, open(\"Heart-disease-classification-model.pkl\", \"wb\"))"
   ]
  },
  {
   "cell_type": "markdown",
   "id": "hindu-popularity",
   "metadata": {},
   "source": [
    "# Loading a saved model\n"
   ]
  },
  {
   "cell_type": "code",
   "execution_count": 85,
   "id": "vocal-gasoline",
   "metadata": {},
   "outputs": [
    {
     "data": {
      "text/plain": [
       "array([1], dtype=int64)"
      ]
     },
     "execution_count": 85,
     "metadata": {},
     "output_type": "execute_result"
    }
   ],
   "source": [
    "loaded_model = pickle.load(open(\"Heart-disease-classification-model.pkl\", \"rb\"))\n",
    "\n",
    "# Making a prediction on a single model\n",
    "loaded_model.predict(np.array(X_test.loc[210]).reshape(1,-1))"
   ]
  }
 ],
 "metadata": {
  "kernelspec": {
   "display_name": "Python 3",
   "language": "python",
   "name": "python3"
  },
  "language_info": {
   "codemirror_mode": {
    "name": "ipython",
    "version": 3
   },
   "file_extension": ".py",
   "mimetype": "text/x-python",
   "name": "python",
   "nbconvert_exporter": "python",
   "pygments_lexer": "ipython3",
   "version": "3.9.1"
  }
 },
 "nbformat": 4,
 "nbformat_minor": 5
}
